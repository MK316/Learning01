{
  "nbformat": 4,
  "nbformat_minor": 0,
  "metadata": {
    "colab": {
      "name": "gradio_practice.ipynb",
      "provenance": [],
      "include_colab_link": true
    },
    "kernelspec": {
      "name": "python3",
      "display_name": "Python 3"
    },
    "language_info": {
      "name": "python"
    }
  },
  "cells": [
    {
      "cell_type": "markdown",
      "metadata": {
        "id": "view-in-github",
        "colab_type": "text"
      },
      "source": [
        "<a href=\"https://colab.research.google.com/github/MK316/Learning01/blob/main/gradio_practice.ipynb\" target=\"_parent\"><img src=\"https://colab.research.google.com/assets/colab-badge.svg\" alt=\"Open In Colab\"/></a>"
      ]
    },
    {
      "cell_type": "markdown",
      "source": [
        "# Input and output on web browser\n",
        "Document: https://gradio.app/docs/"
      ],
      "metadata": {
        "id": "UYoAeP92ZTMN"
      }
    },
    {
      "cell_type": "code",
      "execution_count": 20,
      "metadata": {
        "id": "ZhrL6xVSQ9bS"
      },
      "outputs": [],
      "source": [
        "def sum(a, b):\n",
        "  c = int(a + b)\n",
        "  c = '정답은 ' + str(c) + '입니다'\n",
        "  return str(c)"
      ]
    },
    {
      "cell_type": "code",
      "source": [
        "def comb(x,y):\n",
        "  c = str(x + y)\n",
        "  c = 'The combined word is ' + str(c) + '.'\n",
        "  return c"
      ],
      "metadata": {
        "id": "-zx2rmiEZZB8"
      },
      "execution_count": 17,
      "outputs": []
    },
    {
      "cell_type": "code",
      "source": [
        "sum(2,3)\n",
        "comb('black','board')"
      ],
      "metadata": {
        "id": "1HIgbjYWSBNX",
        "outputId": "71b7cbbd-0ff9-494c-d043-a2a73e556d2e",
        "colab": {
          "base_uri": "https://localhost:8080/",
          "height": 35
        }
      },
      "execution_count": 18,
      "outputs": [
        {
          "output_type": "execute_result",
          "data": {
            "text/plain": [
              "'The combined word is blackboard.'"
            ],
            "application/vnd.google.colaboratory.intrinsic+json": {
              "type": "string"
            }
          },
          "metadata": {},
          "execution_count": 18
        }
      ]
    },
    {
      "cell_type": "code",
      "source": [
        "!pip install gradio"
      ],
      "metadata": {
        "id": "sfMdWugISD5M"
      },
      "execution_count": null,
      "outputs": []
    },
    {
      "cell_type": "code",
      "source": [
        "import gradio as gr"
      ],
      "metadata": {
        "id": "buyjOWYWS41q"
      },
      "execution_count": 13,
      "outputs": []
    },
    {
      "cell_type": "markdown",
      "source": [
        "### input, output types: [gradio](\"https://gradio.app/docs/#input_components\")\n",
        "Input: Textbox, number, slider, ...."
      ],
      "metadata": {
        "id": "Bp77g8NBat5F"
      }
    },
    {
      "cell_type": "code",
      "source": [
        "iface = gr.Interface(sum, inputs = [\"number\", \"number\"], outputs = [\"text\"])\n",
        "iface.launch()"
      ],
      "metadata": {
        "id": "vNlrBEbSS7ge",
        "outputId": "6460be53-a9b9-461e-aba3-6123382a910a",
        "colab": {
          "base_uri": "https://localhost:8080/",
          "height": 643
        }
      },
      "execution_count": 14,
      "outputs": [
        {
          "output_type": "stream",
          "name": "stdout",
          "text": [
            "Colab notebook detected. To show errors in colab notebook, set `debug=True` in `launch()`\n",
            "Running on public URL: https://34029.gradio.app\n",
            "\n",
            "This share link expires in 72 hours. For free permanent hosting, check out Spaces (https://huggingface.co/spaces)\n"
          ]
        },
        {
          "output_type": "display_data",
          "data": {
            "text/plain": [
              "<IPython.lib.display.IFrame at 0x7fb838977bd0>"
            ],
            "text/html": [
              "\n",
              "        <iframe\n",
              "            width=\"900\"\n",
              "            height=\"500\"\n",
              "            src=\"https://34029.gradio.app\"\n",
              "            frameborder=\"0\"\n",
              "            allowfullscreen\n",
              "        ></iframe>\n",
              "        "
            ]
          },
          "metadata": {}
        },
        {
          "output_type": "execute_result",
          "data": {
            "text/plain": [
              "(<fastapi.applications.FastAPI at 0x7fb84108c910>,\n",
              " 'http://127.0.0.1:7860/',\n",
              " 'https://34029.gradio.app')"
            ]
          },
          "metadata": {},
          "execution_count": 14
        }
      ]
    },
    {
      "cell_type": "code",
      "source": [
        "# Gradio: gradio.Interface(function, inputs = [], outputs = [])\n",
        "iface = gr.Interface(comb, inputs = [\"text\",\"text\"], outputs = [\"text\"])\n",
        "iface.launch()"
      ],
      "metadata": {
        "id": "J8hbOZkpaNhj"
      },
      "execution_count": null,
      "outputs": []
    },
    {
      "cell_type": "code",
      "source": [
        "iface = gr.Interface(sum, [gr.inputs.Number(label='input1'), gr.inputs.Number(label='input2')], gr.outputs.Textbox(label='answer'))\n",
        "iface.launch()"
      ],
      "metadata": {
        "id": "9C_eEMRCWExA"
      },
      "execution_count": null,
      "outputs": []
    },
    {
      "cell_type": "markdown",
      "source": [
        "# Gradio Decoration (label)\n",
        "https://gradio.app/docs/#i_textbox"
      ],
      "metadata": {
        "id": "P7DDUUVTcp-I"
      }
    },
    {
      "cell_type": "code",
      "source": [
        "iface = gr.Interface(comb, [gr.inputs.Textbox(label='Word 1', default='write a word here'), gr.inputs.Textbox(label='Word2')], gr.outputs.Textbox(label='Answer'))\n",
        "iface.launch()"
      ],
      "metadata": {
        "id": "DIqOju8ectKw",
        "outputId": "6b0d5f46-2d98-405e-ba0d-b2f172a3d82e",
        "colab": {
          "base_uri": "https://localhost:8080/",
          "height": 643
        }
      },
      "execution_count": 24,
      "outputs": [
        {
          "output_type": "stream",
          "name": "stdout",
          "text": [
            "Colab notebook detected. To show errors in colab notebook, set `debug=True` in `launch()`\n",
            "Running on public URL: https://20636.gradio.app\n",
            "\n",
            "This share link expires in 72 hours. For free permanent hosting, check out Spaces (https://huggingface.co/spaces)\n"
          ]
        },
        {
          "output_type": "display_data",
          "data": {
            "text/plain": [
              "<IPython.lib.display.IFrame at 0x7fb833fa9750>"
            ],
            "text/html": [
              "\n",
              "        <iframe\n",
              "            width=\"900\"\n",
              "            height=\"500\"\n",
              "            src=\"https://20636.gradio.app\"\n",
              "            frameborder=\"0\"\n",
              "            allowfullscreen\n",
              "        ></iframe>\n",
              "        "
            ]
          },
          "metadata": {}
        },
        {
          "output_type": "execute_result",
          "data": {
            "text/plain": [
              "(<fastapi.applications.FastAPI at 0x7fb84108c910>,\n",
              " 'http://127.0.0.1:7864/',\n",
              " 'https://20636.gradio.app')"
            ]
          },
          "metadata": {},
          "execution_count": 24
        }
      ]
    }
  ]
}